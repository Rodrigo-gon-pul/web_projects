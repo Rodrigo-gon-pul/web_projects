{
 "cells": [
  {
   "cell_type": "markdown",
   "metadata": {},
   "source": [
    "# Fake Python Jobs web Scrapping"
   ]
  },
  {
   "cell_type": "code",
   "execution_count": 13,
   "metadata": {},
   "outputs": [],
   "source": [
    "import requests\n",
    "from bs4 import BeautifulSoup\n"
   ]
  },
  {
   "cell_type": "markdown",
   "metadata": {},
   "source": [
    "We can easily request the content from the page since our objetive is to scrap an static HTML web."
   ]
  },
  {
   "cell_type": "markdown",
   "metadata": {},
   "source": [
    "## Request and parse HTML"
   ]
  },
  {
   "cell_type": "code",
   "execution_count": 166,
   "metadata": {},
   "outputs": [
    {
     "name": "stdout",
     "output_type": "stream",
     "text": [
      "!DOCTYPE html>\n",
      "<html>\n",
      "  <head>\n",
      "    <meta charset=\"utf-8\">\n",
      "    <meta name=\"viewport\" content=\"width=device-width, initial-scale=1\">\n",
      "    <title>Fake Python</title>\n",
      "    <link rel=\"stylesheet\" href=\"https://cdn.jsdelivr.net/npm/bulma@0.9.2/css/bulma.min.css\">\n",
      "  </head>\n",
      "  <body>\n",
      "  <section class=\"section\">\n",
      "    <div class=\"container mb-5\">\n",
      "      <h1 class=\"title is-1\">\n",
      "        Fake Python\n",
      "      </h1>\n",
      "      <p class=\"subtitle is-3\">\n",
      "        Fake Jobs for Your Web Scraping Journey\n",
      "      </p>\n",
      "    </div>\n",
      "    <div class=\"container\">\n",
      "    <div id=\"ResultsContainer\" class=\"columns is-multiline\">\n",
      "    <div class=\"column is-half\">\n",
      "<div class=\"card\">\n",
      "  <div class=\"card-content\">\n",
      "    <div class=\"media\">\n",
      "      <div class=\"media-left\">\n",
      "        <figure class=\"image is-48x48\">\n",
      "          <img src=\"https://files.realpython.com/media/real-python-logo-thumbnail.7f0db70c2ed2.jpg?__no_cf_polish=1\" alt=\"Real Python Logo\">\n",
      "        </figure>\n",
      "      </div>\n",
      "      <div class=\"media-content\">\n",
      "        <h2 class=\"title is-\n"
     ]
    }
   ],
   "source": [
    "URL = \"https://realpython.github.io/fake-jobs/\"\n",
    "page = requests.get(URL)\n",
    "\n",
    "print(page.text[1:1000])"
   ]
  },
  {
   "cell_type": "code",
   "execution_count": 19,
   "metadata": {},
   "outputs": [],
   "source": [
    "soup = BeautifulSoup(page.content, \"html.parser\")"
   ]
  },
  {
   "cell_type": "markdown",
   "metadata": {},
   "source": [
    "We are looking for the `<div>` with id=\"ResultsContainer\""
   ]
  },
  {
   "cell_type": "code",
   "execution_count": 167,
   "metadata": {},
   "outputs": [
    {
     "name": "stdout",
     "output_type": "stream",
     "text": [
      "div class=\"columns is-multiline\" id=\"ResultsContainer\">\n",
      " <div class=\"column is-half\">\n",
      "  <div class=\"card\">\n",
      "   <div class=\"card-content\">\n",
      "    <div class=\"media\">\n",
      "     <div class=\"media-left\">\n",
      "      <figure class=\"image is-48x48\">\n",
      "       <img alt=\"Real Python Logo\" src=\"https://files.realpython.com/media/real-python-logo-thumbnail.7f0db70c2ed2.jpg?__no_cf_polish=1\"/>\n",
      "      </figure>\n",
      "     </div>\n",
      "     <div class=\"media-content\">\n",
      "      <h2 class=\"title is-5\">\n",
      "       Senior Python Developer\n",
      "      </h2>\n",
      "      <h3 class=\"subtitle is-6 company\">\n",
      "       Payne, Roberts and Davis\n",
      "      </h3>\n",
      "     </div>\n",
      "    </div>\n",
      "    <div class=\"content\">\n",
      "     <p class=\"location\">\n",
      "      Stewartbury, AA\n",
      "     </p>\n",
      "     <p class=\"is-small has-text-grey\">\n",
      "      <time datetime=\"2021-04-08\">\n",
      "       2021-04-08\n",
      "      </time>\n",
      "     </p>\n",
      "    </div>\n",
      "    <footer class=\"card-footer\">\n",
      "     <a class=\"card-footer-item\" href=\"https://www.realpython.com\" target=\"_blank\">\n",
      "      Learn\n",
      "     </a>\n",
      "     <a class=\"card-footer-item\" href=\n"
     ]
    }
   ],
   "source": [
    "results = soup.find(id=\"ResultsContainer\")\n",
    "print(results.prettify()[1:1000])"
   ]
  },
  {
   "cell_type": "markdown",
   "metadata": {},
   "source": [
    "From this container we want an iterable with all the HTML for all the jobs listings displayed on the page"
   ]
  },
  {
   "cell_type": "code",
   "execution_count": 169,
   "metadata": {},
   "outputs": [
    {
     "name": "stdout",
     "output_type": "stream",
     "text": [
      "<div class=\"card-content\">\n",
      " <div class=\"media\">\n",
      "  <div class=\"media-left\">\n",
      "   <figure class=\"image is-48x48\">\n",
      "    <img alt=\"Real Python Logo\" src=\"https://files.realpython.com/media/real-python-logo-thumbnail.7f0db70c2ed2.jpg?__no_cf_polish=1\"/>\n",
      "   </figure>\n",
      "  </div>\n",
      "  <div class=\"media-content\">\n",
      "   <h2 class=\"title is-5\">\n",
      "    Senior Python Developer\n",
      "   </h2>\n",
      "   <h3 class=\"subtitle is-6 company\">\n",
      "    Payne, Roberts and Davis\n",
      "   </h3>\n",
      "  </div>\n",
      " </div>\n",
      " <div class=\"content\">\n",
      "  <p class=\"location\">\n",
      "   Stewartbury, AA\n",
      "  </p>\n",
      "  <p class=\"is-small has-text-grey\">\n",
      "   <time datetime=\"2021-04-08\">\n",
      "    2021-04-08\n",
      "   </time>\n",
      "  </p>\n",
      " </div>\n",
      " <footer class=\"card-footer\">\n",
      "  <a class=\"card-footer-item\" href=\"https://www.realpython.com\" target=\"_blank\">\n",
      "   Learn\n",
      "  </a>\n",
      "  <a class=\"card-footer-item\" href=\"https://realpython.github.io/fake-jobs/jobs/senior-python-developer-0.html\" target=\"_blank\">\n",
      "   Apply\n",
      "  </a>\n",
      " </footer>\n",
      "</div>\n",
      "\n"
     ]
    }
   ],
   "source": [
    "job_elements = results.find_all(\"div\", class_=\"card-content\")\n",
    "\n",
    "print(job_elements[0].prettify())"
   ]
  },
  {
   "cell_type": "markdown",
   "metadata": {},
   "source": [
    "Let's focus only on the 'title', 'company' and 'location' elements."
   ]
  },
  {
   "cell_type": "code",
   "execution_count": 170,
   "metadata": {},
   "outputs": [
    {
     "name": "stdout",
     "output_type": "stream",
     "text": [
      "Senior Python Developer\n",
      "Payne, Roberts and Davis\n",
      "Stewartbury, AA\n",
      "\n",
      "Energy engineer\n",
      "Vasquez-Davidson\n",
      "Christopherville, AA\n",
      "\n",
      "Legal executive\n",
      "Jackson, Chambers and Levy\n",
      "Port Ericaburgh, AA\n",
      "\n",
      "Fitness centre manager\n",
      "Savage-Bradley\n",
      "East Seanview, AP\n",
      "\n",
      "Product manager\n",
      "Ramirez Inc\n",
      "North Jamieview, AP\n",
      "\n",
      "Medical technical officer\n",
      "Rogers-Yates\n",
      "Davidville, AP\n",
      "\n",
      "Physiological scientist\n",
      "Kramer-Klein\n",
      "South Christopher, AE\n",
      "\n",
      "Textile designer\n",
      "Meyers-Johnson\n",
      "Port Jonathan, AE\n",
      "\n",
      "Television floor manager\n",
      "Hughes-Williams\n",
      "Osbornetown, AE\n",
      "\n",
      "Waste management officer\n",
      "Jones, Williams and Villa\n",
      "Scotttown, AP\n",
      "\n"
     ]
    }
   ],
   "source": [
    "c = 0\n",
    "for job_element in job_elements:\n",
    "    title_element = job_element.find(\"h2\", class_=\"title\")\n",
    "    company_element = job_element.find(\"h3\", class_=\"company\")\n",
    "    location_element = job_element.find(\"p\", class_=\"location\")\n",
    "    print(title_element.text.strip())\n",
    "    print(company_element.text.strip())\n",
    "    print(location_element.text.strip())\n",
    "    print()\n",
    "    c += 1\n",
    "    if c == 10:\n",
    "        break"
   ]
  },
  {
   "cell_type": "markdown",
   "metadata": {},
   "source": [
    "## Filter results\n",
    "\n",
    "In this exercise we only want to keep the Python jobs. **Thus we'll look for the jobs with the word \"Python\" included in the title.**"
   ]
  },
  {
   "cell_type": "code",
   "execution_count": 47,
   "metadata": {},
   "outputs": [
    {
     "name": "stdout",
     "output_type": "stream",
     "text": [
      "Senior Python Developer\n",
      "Software Engineer (Python)\n",
      "Python Programmer (Entry-Level)\n",
      "Python Programmer (Entry-Level)\n",
      "Software Developer (Python)\n",
      "Python Developer\n",
      "Back-End Web Developer (Python, Django)\n",
      "Back-End Web Developer (Python, Django)\n",
      "Python Programmer (Entry-Level)\n",
      "Software Developer (Python)\n"
     ]
    }
   ],
   "source": [
    "python_jobs = results.find_all(\n",
    "    \"h2\", string=lambda text: \"python\" in text.lower()\n",
    ")\n",
    "\n",
    "for python_job in python_jobs:\n",
    "    print(python_job.text.strip())"
   ]
  },
  {
   "cell_type": "markdown",
   "metadata": {},
   "source": [
    "## Access Parent elements\n",
    "The `<div>` element with the \"card-content\" class contains all the information we want. It’s a third-level parent of the `<h2>` title element that we found using our filter."
   ]
  },
  {
   "cell_type": "code",
   "execution_count": 172,
   "metadata": {},
   "outputs": [
    {
     "name": "stdout",
     "output_type": "stream",
     "text": [
      "<div class=\"card-content\">\n",
      " <div class=\"media\">\n",
      "  <div class=\"media-left\">\n",
      "   <figure class=\"image is-48x48\">\n",
      "    <img alt=\"Real Python Logo\" src=\"https://files.realpython.com/media/real-python-logo-thumbnail.7f0db70c2ed2.jpg?__no_cf_polish=1\"/>\n",
      "   </figure>\n",
      "  </div>\n",
      "  <div class=\"media-content\">\n",
      "   <h2 class=\"title is-5\">\n",
      "    Senior Python Developer\n",
      "   </h2>\n",
      "   <h3 class=\"subtitle is-6 company\">\n",
      "    Payne, Roberts and Davis\n",
      "   </h3>\n",
      "  </div>\n",
      " </div>\n",
      " <div class=\"content\">\n",
      "  <p class=\"location\">\n",
      "   Stewartbury, AA\n",
      "  </p>\n",
      "  <p class=\"is-small has-text-grey\">\n",
      "   <time datetime=\"2021-04-08\">\n",
      "    2021-04-08\n",
      "   </time>\n",
      "  </p>\n",
      " </div>\n",
      " <footer class=\"card-footer\">\n",
      "  <a class=\"card-footer-item\" href=\"https://www.realpython.com\" target=\"_blank\">\n",
      "   Learn\n",
      "  </a>\n",
      "  <a class=\"card-footer-item\" href=\"https://realpython.github.io/fake-jobs/jobs/senior-python-developer-0.html\" target=\"_blank\">\n",
      "   Apply\n",
      "  </a>\n",
      " </footer>\n",
      "</div>\n",
      "\n"
     ]
    }
   ],
   "source": [
    "python_job_elements = [\n",
    "    h2_element.parent.parent.parent for h2_element in python_jobs\n",
    "]\n",
    "\n",
    "print(python_job_elements[0].prettify())\n"
   ]
  },
  {
   "cell_type": "markdown",
   "metadata": {},
   "source": [
    "## Extract Attributes From HTML Elements"
   ]
  },
  {
   "cell_type": "code",
   "execution_count": 56,
   "metadata": {},
   "outputs": [
    {
     "name": "stdout",
     "output_type": "stream",
     "text": [
      "Link: https://www.realpython.com\n",
      "\n",
      "Link: https://realpython.github.io/fake-jobs/jobs/senior-python-developer-0.html\n",
      "\n",
      "Link: https://www.realpython.com\n",
      "\n",
      "Link: https://realpython.github.io/fake-jobs/jobs/software-engineer-python-10.html\n",
      "\n",
      "Link: https://www.realpython.com\n",
      "\n",
      "Link: https://realpython.github.io/fake-jobs/jobs/python-programmer-entry-level-20.html\n",
      "\n",
      "Link: https://www.realpython.com\n",
      "\n",
      "Link: https://realpython.github.io/fake-jobs/jobs/python-programmer-entry-level-30.html\n",
      "\n",
      "Link: https://www.realpython.com\n",
      "\n",
      "Link: https://realpython.github.io/fake-jobs/jobs/software-developer-python-40.html\n",
      "\n",
      "Link: https://www.realpython.com\n",
      "\n",
      "Link: https://realpython.github.io/fake-jobs/jobs/python-developer-50.html\n",
      "\n",
      "Link: https://www.realpython.com\n",
      "\n",
      "Link: https://realpython.github.io/fake-jobs/jobs/back-end-web-developer-python-django-60.html\n",
      "\n",
      "Link: https://www.realpython.com\n",
      "\n",
      "Link: https://realpython.github.io/fake-jobs/jobs/back-end-web-developer-python-django-70.html\n",
      "\n",
      "Link: https://www.realpython.com\n",
      "\n",
      "Link: https://realpython.github.io/fake-jobs/jobs/python-programmer-entry-level-80.html\n",
      "\n",
      "Link: https://www.realpython.com\n",
      "\n",
      "Link: https://realpython.github.io/fake-jobs/jobs/software-developer-python-90.html\n",
      "\n"
     ]
    }
   ],
   "source": [
    "for job_element in python_job_elements:\n",
    "\n",
    "    links = job_element.find_all(\"a\")\n",
    "    for link in links:\n",
    "        link_url = link[\"href\"]\n",
    "        print(f\"Link: {link_url}\\n\")"
   ]
  },
  {
   "cell_type": "markdown",
   "metadata": {},
   "source": [
    "We only want the **second** link on each card, since this is the one containing the application info."
   ]
  },
  {
   "cell_type": "code",
   "execution_count": 57,
   "metadata": {},
   "outputs": [
    {
     "name": "stdout",
     "output_type": "stream",
     "text": [
      "Apply here: https://realpython.github.io/fake-jobs/jobs/senior-python-developer-0.html\n",
      "\n",
      "Apply here: https://realpython.github.io/fake-jobs/jobs/software-engineer-python-10.html\n",
      "\n",
      "Apply here: https://realpython.github.io/fake-jobs/jobs/python-programmer-entry-level-20.html\n",
      "\n",
      "Apply here: https://realpython.github.io/fake-jobs/jobs/python-programmer-entry-level-30.html\n",
      "\n",
      "Apply here: https://realpython.github.io/fake-jobs/jobs/software-developer-python-40.html\n",
      "\n",
      "Apply here: https://realpython.github.io/fake-jobs/jobs/python-developer-50.html\n",
      "\n",
      "Apply here: https://realpython.github.io/fake-jobs/jobs/back-end-web-developer-python-django-60.html\n",
      "\n",
      "Apply here: https://realpython.github.io/fake-jobs/jobs/back-end-web-developer-python-django-70.html\n",
      "\n",
      "Apply here: https://realpython.github.io/fake-jobs/jobs/python-programmer-entry-level-80.html\n",
      "\n",
      "Apply here: https://realpython.github.io/fake-jobs/jobs/software-developer-python-90.html\n",
      "\n"
     ]
    }
   ],
   "source": [
    "for job_element in python_job_elements:\n",
    "    link_url = job_element.find_all(\"a\")[1][\"href\"] # With index [1] we keep only the second link available per card \n",
    "    print(f\"Apply here: {link_url}\\n\")"
   ]
  },
  {
   "cell_type": "markdown",
   "metadata": {},
   "source": [
    "## Save list of jobs in DataFrame"
   ]
  },
  {
   "cell_type": "code",
   "execution_count": 162,
   "metadata": {},
   "outputs": [],
   "source": [
    "import pandas as pd\n",
    "import re"
   ]
  },
  {
   "cell_type": "markdown",
   "metadata": {},
   "source": [
    "Let's take a look again to the python_job_elements structure."
   ]
  },
  {
   "cell_type": "code",
   "execution_count": 175,
   "metadata": {},
   "outputs": [
    {
     "name": "stdout",
     "output_type": "stream",
     "text": [
      "<div class=\"card-content\">\n",
      " <div class=\"media\">\n",
      "  <div class=\"media-left\">\n",
      "   <figure class=\"image is-48x48\">\n",
      "    <img alt=\"Real Python Logo\" src=\"https://files.realpython.com/media/real-python-logo-thumbnail.7f0db70c2ed2.jpg?__no_cf_polish=1\"/>\n",
      "   </figure>\n",
      "  </div>\n",
      "  <div class=\"media-content\">\n",
      "   <h2 class=\"title is-5\">\n",
      "    Senior Python Developer\n",
      "   </h2>\n",
      "   <h3 class=\"subtitle is-6 company\">\n",
      "    Payne, Roberts and Davis\n",
      "   </h3>\n",
      "  </div>\n",
      " </div>\n",
      " <div class=\"content\">\n",
      "  <p class=\"location\">\n",
      "   Stewartbury, AA\n",
      "  </p>\n",
      "  <p class=\"is-small has-text-grey\">\n",
      "   <time datetime=\"2021-04-08\">\n",
      "    2021-04-08\n",
      "   </time>\n",
      "  </p>\n",
      " </div>\n",
      " <footer class=\"card-footer\">\n",
      "  <a class=\"card-footer-item\" href=\"https://www.realpython.com\" target=\"_blank\">\n",
      "   Learn\n",
      "  </a>\n",
      "  <a class=\"card-footer-item\" href=\"https://realpython.github.io/fake-jobs/jobs/senior-python-developer-0.html\" target=\"_blank\">\n",
      "   Apply\n",
      "  </a>\n",
      " </footer>\n",
      "</div>\n",
      "\n"
     ]
    }
   ],
   "source": [
    "print(python_job_elements[0].prettify())"
   ]
  },
  {
   "cell_type": "markdown",
   "metadata": {},
   "source": [
    "We'll iterate over the list of python jobs and **request, parse and extract the information related to each specific job subpage**."
   ]
  },
  {
   "cell_type": "code",
   "execution_count": 164,
   "metadata": {},
   "outputs": [
    {
     "name": "stdout",
     "output_type": "stream",
     "text": [
      "                                     Title                   Company  \\\n",
      "0                  Senior Python Developer  Payne, Roberts and Davis   \n",
      "1               Software Engineer (Python)                Garcia PLC   \n",
      "2          Python Programmer (Entry-Level)    Moss, Duncan and Allen   \n",
      "3          Python Programmer (Entry-Level)           Cooper and Sons   \n",
      "4              Software Developer (Python)              Adams-Brewer   \n",
      "5                         Python Developer           Rivera and Sons   \n",
      "6  Back-End Web Developer (Python, Django)         Stewart-Alexander   \n",
      "7  Back-End Web Developer (Python, Django)    Jackson, Ali and Mckee   \n",
      "8          Python Programmer (Entry-Level)               Mathews Inc   \n",
      "9              Software Developer (Python)          Moreno-Rodriguez   \n",
      "\n",
      "                                         Description                Location  \\\n",
      "0  Professional asset web application environment...         Stewartbury, AA   \n",
      "1  Collaborate discussions responsible tech growt...            Ericberg, AE   \n",
      "2  Java programs distributed teamwork Java develo...           Port Sara, AE   \n",
      "3  Asset fast-growing role agile support discussi...         West Victor, AE   \n",
      "4  Asset include open-minded HTML fast-growing. C...          Brockburgh, AE   \n",
      "5  Css role company. Oversea include distributed ...    East Michaelfort, AA   \n",
      "6  Explore professional teamwork software develop...      South Kimberly, AA   \n",
      "7  Detail-Oriented support Django. Build support ...   New Elizabethside, AA   \n",
      "8  Asset teamwork open-minded professional. Explo...       Robertborough, AP   \n",
      "9  Support communities job web application Python...       Martinezburgh, AE   \n",
      "\n",
      "   Date posted  \n",
      "0   2021-04-08  \n",
      "1   2021-04-08  \n",
      "2   2021-04-08  \n",
      "3   2021-04-08  \n",
      "4   2021-04-08  \n",
      "5   2021-04-08  \n",
      "6   2021-04-08  \n",
      "7   2021-04-08  \n",
      "8   2021-04-08  \n",
      "9   2021-04-08  \n"
     ]
    }
   ],
   "source": [
    "columns = ['Title', 'Company', 'Description', 'Location', 'Date posted']\n",
    "python_jobs_list = []\n",
    "\n",
    "for job_element in python_job_elements:\n",
    "    link_url = job_element.find_all(\"a\")[1][\"href\"]\n",
    "    job_page = requests.get(link_url)\n",
    "    job_soup = BeautifulSoup(job_page.content, \"html.parser\")\n",
    "    job_results = job_soup.find(id=\"ResultsContainer\")\n",
    "    title = job_results.find(\"h1\", class_=\"title\").text.strip()\n",
    "    company = job_results.find(\"h2\", class_=\"company\").text.strip()\n",
    "    content_element = job_results.find(\"div\", class_=\"content\")\n",
    "    description = content_element.find_all(\"p\")[0].text.strip()\n",
    "    location = re.split(\":\", content_element.find_all(\"p\")[1].text.strip())[1]\n",
    "    date = re.split(\":\", content_element.find_all(\"p\")[2].text.strip())[1]\n",
    "    python_jobs_list.append([title, company, description, location, date])\n",
    "\n",
    "python_jobs_df = pd.DataFrame(python_jobs_list, columns=columns) \n",
    "print(python_jobs_df)"
   ]
  }
 ],
 "metadata": {
  "kernelspec": {
   "display_name": "Python 3.9.13 ('base')",
   "language": "python",
   "name": "python3"
  },
  "language_info": {
   "codemirror_mode": {
    "name": "ipython",
    "version": 3
   },
   "file_extension": ".py",
   "mimetype": "text/x-python",
   "name": "python",
   "nbconvert_exporter": "python",
   "pygments_lexer": "ipython3",
   "version": "3.9.13"
  },
  "orig_nbformat": 4,
  "vscode": {
   "interpreter": {
    "hash": "7a7cae7f7d969ffc1a60ee2f81d754925a66c38e4a8f5fe056a95e6a591d69b9"
   }
  }
 },
 "nbformat": 4,
 "nbformat_minor": 2
}
